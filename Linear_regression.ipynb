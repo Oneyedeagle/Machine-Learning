{
  "nbformat": 4,
  "nbformat_minor": 0,
  "metadata": {
    "colab": {
      "name": "Linear regression.ipynb",
      "provenance": [],
      "collapsed_sections": []
    },
    "kernelspec": {
      "name": "python3",
      "display_name": "Python 3"
    },
    "language_info": {
      "name": "python"
    }
  },
  "cells": [
    {
      "cell_type": "markdown",
      "source": [
        "This notebook implements linear regression from scratch"
      ],
      "metadata": {
        "id": "J-cHbEq_BkGx"
      }
    },
    {
      "cell_type": "code",
      "source": [
        "import numpy as np\n",
        "import pandas as pd\n",
        "import matplotlib.pyplot as plt\n",
        "from sklearn import datasets"
      ],
      "metadata": {
        "id": "W2pQLR4RddNR"
      },
      "execution_count": 1,
      "outputs": []
    },
    {
      "cell_type": "code",
      "source": [
        "# If you wanna use one feature from california dataset\n",
        "california = datasets.fetch_california_housing\n",
        "print(california().data.shape)\n",
        "\n",
        "X_train2 = california().data[:, 0]  # selecting only 1 column\n",
        "y_train2 = california().target      # selecting labels\n",
        "X_train2 = X_train2[0:100]      # selecting first 100 examples of first feature\n",
        "y_train2 = y_train2[0:100]      # selecting first 100 examples of first feature\n",
        "\n",
        "y_hat2 = np.zeros([len(y_train2)]) \n",
        "\n",
        "# If you wanna use a user defined dataset \n",
        "X = np.array([0, 2, 3, 5, 8, 9])\n",
        "y_train = np.array([3, 6, 8.6, 12, 25, 42])\n",
        "y_hat = np.zeros([len(y_train)])        # an array of zeros this will have the trained line or set of data"
      ],
      "metadata": {
        "id": "QshpN1FbK7k2",
        "colab": {
          "base_uri": "https://localhost:8080/"
        },
        "outputId": "675e7eba-faf1-4847-a054-b22e102ffa5d"
      },
      "execution_count": 12,
      "outputs": [
        {
          "output_type": "stream",
          "name": "stdout",
          "text": [
            "(20640, 8)\n"
          ]
        }
      ]
    },
    {
      "cell_type": "code",
      "source": [
        "# Plot of training data\n",
        "plt.scatter(X, y_train,  marker=\"o\")\n",
        "plt.title(\"Training data\")\n",
        "plt.xlabel(\"X\")\n",
        "plt.ylabel(\"y\")\n",
        "plt.grid(True, color= \"grey\")"
      ],
      "metadata": {
        "colab": {
          "base_uri": "https://localhost:8080/",
          "height": 295
        },
        "id": "6P6Z2hLHdaO0",
        "outputId": "901c4b68-0eea-4853-e5c8-6b138cd64d01"
      },
      "execution_count": 13,
      "outputs": [
        {
          "output_type": "display_data",
          "data": {
            "text/plain": [
              "<Figure size 432x288 with 1 Axes>"
            ],
            "image/png": "[encoded data removed]"
          },
          "metadata": {
            "needs_background": "light"
          }
        }
      ]
    },
    {
      "cell_type": "markdown",
      "source": [
        "Iterative implementation of computing cost fn"
      ],
      "metadata": {
        "id": "tQZY4aXVVXJ_"
      }
    },
    {
      "cell_type": "code",
      "source": [
        "# Function to calculate J (w, b) i.e cost, for a given weight and bias\n",
        "# This fn returns overall cost and predicted target values\n",
        "\n",
        "def compute_cost(y_train, y_hat, w, b, X):\n",
        "  m = len(y_train)\n",
        "  J = 0\n",
        "  for i in range(m):\n",
        "    y_hat[i] = w*X[i] + b         # predicted target \n",
        "    error = y_train[i]-y_hat[i]   # diff bw true target vs predicted target\n",
        "    J+= error**2                  # overall cost\n",
        "  J*=(1/2*m)                      # normalized\n",
        "  return J, y_hat"
      ],
      "metadata": {
        "id": "OJy9OGIPgE_h"
      },
      "execution_count": 4,
      "outputs": []
    },
    {
      "cell_type": "markdown",
      "source": [
        "Vectorized implementation of computing cost fn"
      ],
      "metadata": {
        "id": "pI5h0vwhVdz9"
      }
    },
    {
      "cell_type": "code",
      "source": [
        "# Function to calculate cost for a given weight and bias without using a loop\n",
        "\n",
        "def compute_cost_vectorized(y_train, y_hat, w, b, X):\n",
        "  m = len(y_train)\n",
        "  J = 0\n",
        "  y_hat = w*X + b           # predicted target \n",
        "  error = y_train - y_hat   # diff bw true target vs predicted target\n",
        "  J = np.sum(error**2)      # overall cost by summing the entire column\n",
        "  J*=(1/2*m)\n",
        "  \n",
        "  return J, y_hat"
      ],
      "metadata": {
        "id": "rcOFG49CVQRo"
      },
      "execution_count": 14,
      "outputs": []
    },
    {
      "cell_type": "markdown",
      "source": [
        "This cell is for testing and visualization purposes of the cost fn defined above"
      ],
      "metadata": {
        "id": "BBPN8G-EexNN"
      }
    },
    {
      "cell_type": "code",
      "source": [
        "# example of cost function being run and plotting the predicted line for a given \n",
        "# weight and bias, here iteration = 1\n",
        "\n",
        "w = 1.9   # weight\n",
        "b = 2.1   # bias\n",
        "\n",
        "cost, y_hat = compute_cost_vectorized(y_train, y_hat, 1.9, 2.1, X)\n",
        "# y_hat is the prediction\n",
        "print(cost)\n",
        "\n",
        "plt.xlim([-0.25, 6])\n",
        "plt.ylim([-0.25, 13])\n",
        "plt.plot(X, y_hat)\n",
        "plt.scatter(X, y_train,  marker=\"o\")\n",
        "plt.grid(True, color= \"grey\")"
      ],
      "metadata": {
        "id": "0qeqpL6hiE99",
        "colab": {
          "base_uri": "https://localhost:8080/",
          "height": 282
        },
        "outputId": "510406d3-3f3a-4e34-c0e9-efdf380a83e9"
      },
      "execution_count": 19,
      "outputs": [
        {
          "output_type": "stream",
          "name": "stdout",
          "text": [
            "1742.25\n"
          ]
        },
        {
          "output_type": "display_data",
          "data": {
            "text/plain": [
              "<Figure size 432x288 with 1 Axes>"
            ],
            "image/png": "[encoded data removed]"
          },
          "metadata": {
            "needs_background": "light"
          }
        }
      ]
    },
    {
      "cell_type": "markdown",
      "source": [
        "Iterative calculation of $\\frac {\\partial J} {\\partial w} $ and \n",
        "$\\frac {\\partial J} {\\partial b} $    or $\\Delta J$ wrt to w and b"
      ],
      "metadata": {
        "id": "ODxWpT3LkCwI"
      }
    },
    {
      "cell_type": "code",
      "source": [
        "# function to calculate gradient of cost function wrt to w and b for further use \n",
        "# for gradiemt descent algorithm, here y_hat is taken from above compute_cost()\n",
        "def compute_grad(y_train, y_hat, X):\n",
        "  m = len(y_train)\n",
        "  d_by_dw_dJ = 0\n",
        "  d_by_db_dJ = 0\n",
        "\n",
        "  for i in range(m):\n",
        "    d_by_dw_dJ += (y_hat[i]-y_train[i])*X[i]\n",
        "    d_by_db_dJ += (y_hat[i]-y_train[i])\n",
        "\n",
        "  d_by_dw_dJ *= 1/m\n",
        "  d_by_db_dJ *= 1/m\n",
        "  return d_by_dw_dJ, d_by_db_dJ\n",
        "\n",
        "d_by_dw_dJ, d_by_db_dJ = compute_grad(y_train, y_hat, X)\n",
        "print(d_by_dw_dJ)\n",
        "print(d_by_db_dJ)"
      ],
      "metadata": {
        "id": "xvzLw09gn_60"
      },
      "execution_count": 52,
      "outputs": []
    },
    {
      "cell_type": "markdown",
      "source": [
        "Vectorized calculation of $\\frac {\\partial J} {\\partial w} $ and \n",
        "$\\frac {\\partial J} {\\partial b} $"
      ],
      "metadata": {
        "id": "oU1lasfGmlfk"
      }
    },
    {
      "cell_type": "code",
      "source": [
        "def compute_grad_vectorized(y_train, y_hat, X):\n",
        "  m = len(y_train)\n",
        "\n",
        "  d_by_dw_dJ = (1/m) * np.dot((y_hat - y_train), X)   # no need for numpy sum here as dot product is a scalar \n",
        "  d_by_db_dJ = (1/m) * np.sum(y_hat-y_train)\n",
        "  return d_by_dw_dJ, d_by_db_dJ\n",
        "\n",
        "d_by_dw_dJ, d_by_db_dJ = compute_grad_vectorized(y_train, y_hat, X)\n",
        "print(d_by_dw_dJ)\n",
        "print(d_by_db_dJ)"
      ],
      "metadata": {
        "id": "EOBkhvwxfUYS"
      },
      "execution_count": 54,
      "outputs": []
    },
    {
      "cell_type": "markdown",
      "source": [
        "Gradient Descent Algorithm"
      ],
      "metadata": {
        "id": "BBtEwL6JfBB5"
      }
    },
    {
      "cell_type": "code",
      "execution_count": 86,
      "metadata": {
        "colab": {
          "base_uri": "https://localhost:8080/"
        },
        "id": "J0r0FzG8cz8V",
        "outputId": "8943c669-d103-491c-b29c-e0862610996e"
      },
      "outputs": [
        {
          "name": "stdout",
          "output_type": "stream",
          "text": [
            "Enter the no. of iteration for which you want to run gradient descent: 20000\n"
          ]
        }
      ],
      "source": [
        "# Gradient descent algorithm, the three lists keep track of cost, weigh and bias\n",
        "# observe how cost is decreasing if it isnt then tune lr (learning rate)\n",
        "def grad_descent(X_train, y_train, y_hat, iteration):\n",
        "  J_itr = []\n",
        "  w_itr = []\n",
        "  b_itr = []\n",
        "  w, b = 0, 0\n",
        "  lr = 0.001\n",
        "  for i in range(iteration):\n",
        "    cost, y_hat = compute_cost_vectorized(y_train, y_hat, w, b, X_train)      # calling cost function  \n",
        "    d_by_dw_dJ, d_by_db_dJ = compute_grad_vectorized(y_train, y_hat, X_train) # calling grad function\n",
        "    w = w - lr*(d_by_dw_dJ)\n",
        "    b = b - lr*(d_by_db_dJ)\n",
        "\n",
        "    J_itr.append(cost)\n",
        "    w_itr.append(w)\n",
        "    b_itr.append(b)\n",
        "\n",
        "  # print(J_itr, \"\\n\", w_itr, \"\\n\", b_itr)\n",
        "  return itr, J_itr, y_hat\n",
        "\n",
        "iter = int(input(\"Enter the no. of iteration for which you want to run gradient descent: \"))\n",
        "itr, J_list, y_hat = grad_descent(X_train2, y_train2, y_hat2, iter)   # choose which data to feed "
      ]
    },
    {
      "cell_type": "code",
      "source": [
        "print(\"Final cost is: \", J_list[-1])"
      ],
      "metadata": {
        "colab": {
          "base_uri": "https://localhost:8080/"
        },
        "id": "9paxEfg0UXYy",
        "outputId": "2211802d-3496-4942-f60c-92eea8401bfa"
      },
      "execution_count": 85,
      "outputs": [
        {
          "output_type": "stream",
          "name": "stdout",
          "text": [
            "Final cost is:  1954.6396130657947\n"
          ]
        }
      ]
    },
    {
      "cell_type": "code",
      "source": [
        "#Plotting Cost vs # of iterations to check if gradient descent is converging\n",
        "plt.plot(np.arange(0, iter), J_list, color = \"violet\")\n",
        "plt.title(\"Cost vs iteration plot\")\n",
        "plt.xlabel(\"Iteration\")\n",
        "plt.ylabel(\"Cost\")"
      ],
      "metadata": {
        "colab": {
          "base_uri": "https://localhost:8080/",
          "height": 312
        },
        "id": "Z7xFjKC_jP_z",
        "outputId": "2bd7a957-5dc3-4537-bec1-8478d5ef8e72"
      },
      "execution_count": 87,
      "outputs": [
        {
          "output_type": "execute_result",
          "data": {
            "text/plain": [
              "Text(0, 0.5, 'Cost')"
            ]
          },
          "metadata": {},
          "execution_count": 87
        },
        {
          "output_type": "display_data",
          "data": {
            "text/plain": [
              "<Figure size 432x288 with 1 Axes>"
            ],
            "image/png": "[encoded data removed]"
          },
          "metadata": {
            "needs_background": "light"
          }
        }
      ]
    },
    {
      "cell_type": "code",
      "source": [
        "# Plotting the predicted linear function (line i.e y_hat wrt x)\n",
        "\n",
        "plt.plot(X_train2, y_hat, color = \"red\", label = \"Predicted line\")            \n",
        "plt.scatter(X_train2, y_train2,  marker=\"o\", label = \"Given data\")\n",
        "\n",
        "plt.grid(True, color= \"grey\")\n",
        "plt.legend()\n",
        "plt.xlabel(\"Training data\")\n",
        "plt.ylabel(\"Target data\")"
      ],
      "metadata": {
        "colab": {
          "base_uri": "https://localhost:8080/",
          "height": 296
        },
        "id": "l8Qql14SrcA2",
        "outputId": "5e576901-f53f-427f-fe59-941eaed789a8"
      },
      "execution_count": 88,
      "outputs": [
        {
          "output_type": "execute_result",
          "data": {
            "text/plain": [
              "Text(0, 0.5, 'Target data')"
            ]
          },
          "metadata": {},
          "execution_count": 88
        },
        {
          "output_type": "display_data",
          "data": {
            "text/plain": [
              "<Figure size 432x288 with 1 Axes>"
            ],
            "image/png": "[encoded data removed]"
          },
          "metadata": {
            "needs_background": "light"
          }
        }
      ]
    }
  ]
}